{
 "cells": [
  {
   "cell_type": "markdown",
   "id": "717cb9b7",
   "metadata": {},
   "source": [
    "# initial setup"
   ]
  },
  {
   "cell_type": "code",
   "execution_count": null,
   "id": "3fbd5df6",
   "metadata": {},
   "outputs": [],
   "source": [
    "!git clone https://github.com/ultralytics/yolov5"
   ]
  },
  {
   "cell_type": "code",
   "execution_count": null,
   "id": "10c0eec7",
   "metadata": {},
   "outputs": [],
   "source": [
    "!pip3 install ipywidgets --user"
   ]
  },
  {
   "cell_type": "code",
   "execution_count": null,
   "id": "4ed22a42",
   "metadata": {},
   "outputs": [],
   "source": [
    "!pip install -r yolov5/requirements.txt"
   ]
  },
  {
   "cell_type": "code",
   "execution_count": null,
   "id": "d767b05d",
   "metadata": {},
   "outputs": [],
   "source": [
    "import torch\n",
    "from matplotlib import pyplot as plt\n",
    "import numpy as np\n",
    "import cv2"
   ]
  },
  {
   "cell_type": "markdown",
   "id": "d909cfbe",
   "metadata": {},
   "source": [
    "# load model"
   ]
  },
  {
   "cell_type": "code",
   "execution_count": null,
   "id": "3387ff27",
   "metadata": {
    "scrolled": true
   },
   "outputs": [],
   "source": [
    "model= torch.hub.load('ultralytics/yolov5','yolov5s')\n"
   ]
  },
  {
   "cell_type": "code",
   "execution_count": null,
   "id": "989f14b1",
   "metadata": {},
   "outputs": [],
   "source": [
    "results=model('https://www.businessinsider.in/thumb/msid-77876393,width-700,resizemode-4,imgsize-327845/science/news/23-bus-passengers-contracted-coronavirus-from-1-infected-person-no-one-was-wearing-a-mask-/img5f4d79597ffa48002894d46a.jpg')"
   ]
  },
  {
   "cell_type": "code",
   "execution_count": null,
   "id": "14f87d15",
   "metadata": {},
   "outputs": [],
   "source": [
    "results.show()"
   ]
  },
  {
   "cell_type": "markdown",
   "id": "a21d4b5f",
   "metadata": {},
   "source": [
    "# real time detection"
   ]
  },
  {
   "cell_type": "code",
   "execution_count": null,
   "id": "24c3ca3e",
   "metadata": {},
   "outputs": [],
   "source": [
    "cam=cv2.VideoCapture(0)\n",
    "while cam.isOpened():\n",
    "    ret,frame=cam.read()\n",
    "    results=model(frame)\n",
    "    \n",
    "    cv2.imshow(\"Yolo\",np.squeeze(results.render()))\n",
    "    \n",
    "    k=cv2.waitKey(10)\n",
    "    if k == ord('q'):\n",
    "        break\n",
    "cam.release()\n",
    "cv2.destroyAllWindows()"
   ]
  },
  {
   "cell_type": "markdown",
   "id": "e294c0cf",
   "metadata": {},
   "source": [
    "# train from scratch"
   ]
  },
  {
   "cell_type": "code",
   "execution_count": null,
   "id": "713e1a67",
   "metadata": {},
   "outputs": [],
   "source": [
    "!cd yolov5 && python train.py --batch 16 --epochs 90 --data ../data.yaml --weights yolov5s.pt"
   ]
  },
  {
   "cell_type": "markdown",
   "id": "adae9c78",
   "metadata": {},
   "source": [
    "# load Model"
   ]
  },
  {
   "cell_type": "code",
   "execution_count": 1,
   "id": "b36d05c6",
   "metadata": {},
   "outputs": [],
   "source": [
    "import torch\n",
    "from matplotlib import pyplot as plt\n",
    "import numpy as np\n",
    "import cv2\n",
    "import os"
   ]
  },
  {
   "cell_type": "code",
   "execution_count": 2,
   "id": "b9d8fa10",
   "metadata": {
    "scrolled": true
   },
   "outputs": [
    {
     "name": "stderr",
     "output_type": "stream",
     "text": [
      "Using cache found in C:\\Users\\kuber/.cache\\torch\\hub\\ultralytics_yolov5_master\n",
      "YOLOv5  2022-11-13 Python-3.10.6 torch-1.13.0 CUDA:0 (NVIDIA GeForce RTX 3060 Laptop GPU, 6144MiB)\n",
      "\n",
      "Fusing layers... \n",
      "Model summary: 157 layers, 7012822 parameters, 0 gradients, 15.8 GFLOPs\n",
      "Adding AutoShape... \n"
     ]
    }
   ],
   "source": [
    "model= torch.hub.load('ultralytics/yolov5','custom',path='yolov5/runs/train/exp3/weights/last.pt')"
   ]
  },
  {
   "cell_type": "code",
   "execution_count": 3,
   "id": "6867e630",
   "metadata": {},
   "outputs": [],
   "source": [
    "import easyocr\n",
    "reader=easyocr.Reader(['en'])"
   ]
  },
  {
   "cell_type": "code",
   "execution_count": 4,
   "id": "da5adcb2",
   "metadata": {},
   "outputs": [
    {
     "name": "stdout",
     "output_type": "stream",
     "text": [
      "['0.jpg', '1.jpg', '2.jpg', '3.jpg', '4.JPG', 'Cars115_png.rf.048d36d6a6f34308dbad3fbd2bf9f5e8.jpg', 'Cars118_png.rf.e8500c6c26b4a6bc3615ec83ebdd41b1.jpg', 'Cars19_png.rf.be8f69e48132b4f9581ee417bb10b7fe.jpg', 'Cars205_png.rf.d03dc59ee3076c5115659b03cd1d27ef.jpg', 'Cars220_png.rf.3d9b32e89e26847390b40889b1ec0b7e.jpg', 'Cars226_png.rf.19c1afa2f02dc782ea8c18883952831d.jpg', 'Cars264_png.rf.e84db51a76517ff40332279a270a62de.jpg', 'Cars265_png.rf.d5634ffb3dde27962e154769508ecbf8.jpg', 'Cars278_png.rf.2029f70d64b05e4569185da86c3c537e.jpg', 'Cars37_png.rf.0017a4edf9665e20b6c30b0ac771c274.jpg']\n"
     ]
    }
   ],
   "source": [
    "di='test/images'\n",
    "files=os.listdir(di)\n",
    "print(files)"
   ]
  },
  {
   "cell_type": "code",
   "execution_count": 6,
   "id": "17f3f488",
   "metadata": {},
   "outputs": [],
   "source": [
    "def binary(img):\n",
    "    gray_image=cv2.cvtColor(img,cv2.COLOR_BGR2GRAY)\n",
    "    #thresh,im_bw=cv2.threshold(gray_image,100,200,cv2.THRESH_BINARY)\n",
    "    return im_bw"
   ]
  },
  {
   "cell_type": "code",
   "execution_count": 7,
   "id": "84a2f007",
   "metadata": {},
   "outputs": [],
   "source": [
    "import pytesseract\n",
    "pytesseract.pytesseract.tesseract_cmd='C:\\\\Users\\\\kuber\\\\Study material\\\\research\\\\install\\\\tesseract\\\\tesseract.exe'"
   ]
  },
  {
   "cell_type": "code",
   "execution_count": 8,
   "id": "cf67d43c",
   "metadata": {},
   "outputs": [],
   "source": [
    "def ocr_core(img):\n",
    "    text= pytesseract.image_to_string(img)\n",
    "    return text"
   ]
  },
  {
   "cell_type": "code",
   "execution_count": 9,
   "id": "5755ab11",
   "metadata": {},
   "outputs": [],
   "source": [
    "def get_grayscale(image):\n",
    "    return cv2.cvtColor(image,cv2.COLOR_BGR2GRAY)"
   ]
  },
  {
   "cell_type": "code",
   "execution_count": 10,
   "id": "c7558d71",
   "metadata": {},
   "outputs": [],
   "source": [
    "def remove_noise(image):\n",
    "    return cv2.medianBlur(image,5)"
   ]
  },
  {
   "cell_type": "code",
   "execution_count": 11,
   "id": "300c0a2e",
   "metadata": {},
   "outputs": [],
   "source": [
    "def threshold(image):\n",
    "    return cv2.threshold(image,0,255,cv2.THRESH_BINARY+cv2.THRESH_OTSU)[1]"
   ]
  },
  {
   "cell_type": "code",
   "execution_count": 12,
   "id": "c2fb0e37",
   "metadata": {},
   "outputs": [],
   "source": [
    "import numpy as np\n",
    "from skimage.transform import hough_line, hough_line_peaks\n",
    "from skimage.transform import rotate\n",
    "from skimage.feature import canny\n",
    "from skimage.io import imread\n",
    "from skimage.color import rgb2gray\n",
    "import matplotlib.pyplot as plt\n",
    "from scipy.stats import mode"
   ]
  },
  {
   "cell_type": "code",
   "execution_count": 13,
   "id": "b1559dfc",
   "metadata": {},
   "outputs": [],
   "source": [
    "def line_img(image):\n",
    "    edges = canny(image)\n",
    "    # Classic straight-line Hough transform\n",
    "    tested_angles = np.deg2rad(np.arange(0.1, 180.0))\n",
    "    h, theta, d = hough_line(edges, theta=tested_angles)\n",
    "\n",
    "    # Generating figure 1\n",
    "    fig, axes = plt.subplots(1, 2, figsize=(15, 16))\n",
    "    ax = axes.ravel()\n",
    "\n",
    "    ax[0].imshow(image, cmap=\"gray\")\n",
    "    ax[0].set_title('Input image')\n",
    "    ax[0].set_axis_off()\n",
    "\n",
    "    ax[1].imshow(edges, cmap=\"gray\")\n",
    "    origin = np.array((0, image.shape[1]))\n",
    "\n",
    "    for _, angle, dist in zip(*hough_line_peaks(h, theta, d)):\n",
    "        y0, y1 = (dist - origin * np.cos(angle)) / np.sin(angle)\n",
    "        ax[1].plot(origin, (y0, y1), '-r')\n",
    "\n",
    "    ax[1].set_xlim(origin)\n",
    "    ax[1].set_ylim((edges.shape[0], 0))\n",
    "    ax[1].set_axis_off()\n",
    "    ax[1].set_title('Detected lines')"
   ]
  },
  {
   "cell_type": "code",
   "execution_count": 14,
   "id": "572472a8",
   "metadata": {},
   "outputs": [],
   "source": [
    "def skew_angle_hough_transform(image):\n",
    "    # convert to edges\n",
    "    edges = canny(image)\n",
    "    # Classic straight-line Hough transform between 0.1 - 180 degrees.\n",
    "    tested_angles = np.deg2rad(np.arange(0.1, 180.0))\n",
    "    h, theta, d = hough_line(edges, theta=tested_angles)\n",
    "    # find line peaks and angles\n",
    "    accum, angles, dists = hough_line_peaks(h, theta, d)\n",
    "    \n",
    "    # round the angles to 2 decimal places and find the most common angle.\n",
    "    most_common_angle = mode(np.around(angles, decimals=2))[0]\n",
    "    \n",
    "    # convert the angle to degree for rotation.\n",
    "    skew_angle = np.rad2deg(most_common_angle - np.pi/2)\n",
    "    return skew_angle"
   ]
  },
  {
   "cell_type": "code",
   "execution_count": 15,
   "id": "cd71abc0",
   "metadata": {},
   "outputs": [],
   "source": [
    "def rotation(image,angle):\n",
    "    image_rotation=cv2.warpAffine(image,cv2.getRotationMatrix2D((0,0),int(angle),1),(0,0))\n",
    "    return image_rotation"
   ]
  },
  {
   "cell_type": "code",
   "execution_count": 16,
   "id": "9de1254c",
   "metadata": {},
   "outputs": [],
   "source": [
    "def get_image(img):\n",
    "    results=model(img)\n",
    "    bbox=results.xyxy[0]\n",
    "    bound=[]\n",
    "    for j in bbox:\n",
    "        temp=[]\n",
    "        for k in j:\n",
    "            temp.append(int(k.item()))\n",
    "        bound.append(temp)\n",
    "    for j in bound:\n",
    "        temp=img[j[1]:j[3],j[0]:j[2]]\n",
    "        temp=get_grayscale(temp)\n",
    "#         line_img(temp)\n",
    "        angle=skew_angle_hough_transform(temp)\n",
    "        temp=rotation(temp,angle)\n",
    "        result=reader.readtext(temp)\n",
    "        if(len(result)>0):\n",
    "            top_left= tuple([int(k) for k in result[-1][0][0]])\n",
    "            bottom_right= tuple([int(k) for k in result[-1][0][2]])\n",
    "            text = result[-1][1]\n",
    "            font = cv2.FONT_HERSHEY_SIMPLEX\n",
    "            img= cv2.rectangle(img,(j[0],j[1]),(j[2],j[3]),(0,255,0),5)\n",
    "            img= cv2.putText(img,text,(j[0],j[1]),font,.5,(255,255,255),2,cv2.LINE_AA)\n",
    "    return img\n",
    "        \n",
    "        \n",
    "    "
   ]
  },
  {
   "cell_type": "code",
   "execution_count": 18,
   "id": "ae17004b",
   "metadata": {},
   "outputs": [
    {
     "name": "stderr",
     "output_type": "stream",
     "text": [
      "C:\\Users\\kuber\\AppData\\Local\\Temp\\ipykernel_26052\\2873010673.py:11: FutureWarning: Unlike other reduction functions (e.g. `skew`, `kurtosis`), the default behavior of `mode` typically preserves the axis it acts along. In SciPy 1.11.0, this behavior will change: the default value of `keepdims` will become False, the `axis` over which the statistic is taken will be eliminated, and the value None will no longer be accepted. Set `keepdims` to True or False to avoid this warning.\n",
      "  most_common_angle = mode(np.around(angles, decimals=2))[0]\n",
      "C:\\Users\\kuber\\AppData\\Local\\Temp\\ipykernel_26052\\2873010673.py:11: FutureWarning: Unlike other reduction functions (e.g. `skew`, `kurtosis`), the default behavior of `mode` typically preserves the axis it acts along. In SciPy 1.11.0, this behavior will change: the default value of `keepdims` will become False, the `axis` over which the statistic is taken will be eliminated, and the value None will no longer be accepted. Set `keepdims` to True or False to avoid this warning.\n",
      "  most_common_angle = mode(np.around(angles, decimals=2))[0]\n",
      "C:\\Users\\kuber\\AppData\\Local\\Temp\\ipykernel_26052\\2873010673.py:11: FutureWarning: Unlike other reduction functions (e.g. `skew`, `kurtosis`), the default behavior of `mode` typically preserves the axis it acts along. In SciPy 1.11.0, this behavior will change: the default value of `keepdims` will become False, the `axis` over which the statistic is taken will be eliminated, and the value None will no longer be accepted. Set `keepdims` to True or False to avoid this warning.\n",
      "  most_common_angle = mode(np.around(angles, decimals=2))[0]\n",
      "C:\\Users\\kuber\\AppData\\Local\\Temp\\ipykernel_26052\\2873010673.py:11: FutureWarning: Unlike other reduction functions (e.g. `skew`, `kurtosis`), the default behavior of `mode` typically preserves the axis it acts along. In SciPy 1.11.0, this behavior will change: the default value of `keepdims` will become False, the `axis` over which the statistic is taken will be eliminated, and the value None will no longer be accepted. Set `keepdims` to True or False to avoid this warning.\n",
      "  most_common_angle = mode(np.around(angles, decimals=2))[0]\n",
      "C:\\Users\\kuber\\AppData\\Local\\Temp\\ipykernel_26052\\2873010673.py:11: FutureWarning: Unlike other reduction functions (e.g. `skew`, `kurtosis`), the default behavior of `mode` typically preserves the axis it acts along. In SciPy 1.11.0, this behavior will change: the default value of `keepdims` will become False, the `axis` over which the statistic is taken will be eliminated, and the value None will no longer be accepted. Set `keepdims` to True or False to avoid this warning.\n",
      "  most_common_angle = mode(np.around(angles, decimals=2))[0]\n",
      "C:\\Users\\kuber\\AppData\\Local\\Temp\\ipykernel_26052\\2873010673.py:11: FutureWarning: Unlike other reduction functions (e.g. `skew`, `kurtosis`), the default behavior of `mode` typically preserves the axis it acts along. In SciPy 1.11.0, this behavior will change: the default value of `keepdims` will become False, the `axis` over which the statistic is taken will be eliminated, and the value None will no longer be accepted. Set `keepdims` to True or False to avoid this warning.\n",
      "  most_common_angle = mode(np.around(angles, decimals=2))[0]\n",
      "C:\\Users\\kuber\\AppData\\Local\\Temp\\ipykernel_26052\\2873010673.py:11: FutureWarning: Unlike other reduction functions (e.g. `skew`, `kurtosis`), the default behavior of `mode` typically preserves the axis it acts along. In SciPy 1.11.0, this behavior will change: the default value of `keepdims` will become False, the `axis` over which the statistic is taken will be eliminated, and the value None will no longer be accepted. Set `keepdims` to True or False to avoid this warning.\n",
      "  most_common_angle = mode(np.around(angles, decimals=2))[0]\n",
      "C:\\Users\\kuber\\AppData\\Local\\Temp\\ipykernel_26052\\2873010673.py:11: FutureWarning: Unlike other reduction functions (e.g. `skew`, `kurtosis`), the default behavior of `mode` typically preserves the axis it acts along. In SciPy 1.11.0, this behavior will change: the default value of `keepdims` will become False, the `axis` over which the statistic is taken will be eliminated, and the value None will no longer be accepted. Set `keepdims` to True or False to avoid this warning.\n",
      "  most_common_angle = mode(np.around(angles, decimals=2))[0]\n",
      "C:\\Users\\kuber\\AppData\\Local\\Temp\\ipykernel_26052\\2873010673.py:11: FutureWarning: Unlike other reduction functions (e.g. `skew`, `kurtosis`), the default behavior of `mode` typically preserves the axis it acts along. In SciPy 1.11.0, this behavior will change: the default value of `keepdims` will become False, the `axis` over which the statistic is taken will be eliminated, and the value None will no longer be accepted. Set `keepdims` to True or False to avoid this warning.\n",
      "  most_common_angle = mode(np.around(angles, decimals=2))[0]\n",
      "C:\\Users\\kuber\\AppData\\Local\\Temp\\ipykernel_26052\\2873010673.py:11: FutureWarning: Unlike other reduction functions (e.g. `skew`, `kurtosis`), the default behavior of `mode` typically preserves the axis it acts along. In SciPy 1.11.0, this behavior will change: the default value of `keepdims` will become False, the `axis` over which the statistic is taken will be eliminated, and the value None will no longer be accepted. Set `keepdims` to True or False to avoid this warning.\n",
      "  most_common_angle = mode(np.around(angles, decimals=2))[0]\n",
      "C:\\Users\\kuber\\AppData\\Local\\Temp\\ipykernel_26052\\2873010673.py:11: FutureWarning: Unlike other reduction functions (e.g. `skew`, `kurtosis`), the default behavior of `mode` typically preserves the axis it acts along. In SciPy 1.11.0, this behavior will change: the default value of `keepdims` will become False, the `axis` over which the statistic is taken will be eliminated, and the value None will no longer be accepted. Set `keepdims` to True or False to avoid this warning.\n",
      "  most_common_angle = mode(np.around(angles, decimals=2))[0]\n",
      "C:\\Users\\kuber\\AppData\\Local\\Temp\\ipykernel_26052\\2873010673.py:11: FutureWarning: Unlike other reduction functions (e.g. `skew`, `kurtosis`), the default behavior of `mode` typically preserves the axis it acts along. In SciPy 1.11.0, this behavior will change: the default value of `keepdims` will become False, the `axis` over which the statistic is taken will be eliminated, and the value None will no longer be accepted. Set `keepdims` to True or False to avoid this warning.\n",
      "  most_common_angle = mode(np.around(angles, decimals=2))[0]\n",
      "C:\\Users\\kuber\\AppData\\Local\\Temp\\ipykernel_26052\\2873010673.py:11: FutureWarning: Unlike other reduction functions (e.g. `skew`, `kurtosis`), the default behavior of `mode` typically preserves the axis it acts along. In SciPy 1.11.0, this behavior will change: the default value of `keepdims` will become False, the `axis` over which the statistic is taken will be eliminated, and the value None will no longer be accepted. Set `keepdims` to True or False to avoid this warning.\n",
      "  most_common_angle = mode(np.around(angles, decimals=2))[0]\n",
      "C:\\Users\\kuber\\AppData\\Local\\Temp\\ipykernel_26052\\2873010673.py:11: FutureWarning: Unlike other reduction functions (e.g. `skew`, `kurtosis`), the default behavior of `mode` typically preserves the axis it acts along. In SciPy 1.11.0, this behavior will change: the default value of `keepdims` will become False, the `axis` over which the statistic is taken will be eliminated, and the value None will no longer be accepted. Set `keepdims` to True or False to avoid this warning.\n",
      "  most_common_angle = mode(np.around(angles, decimals=2))[0]\n"
     ]
    }
   ],
   "source": [
    "%matplotlib inline\n",
    "for i in files:\n",
    "    img=os.path.join(di,i)\n",
    "    img=cv2.imread(img)\n",
    "    temp=get_grayscale(img)\n",
    "    results=model(temp)\n",
    "    bbox=results.xyxy[0]\n",
    "    bound=[]\n",
    "    for j in bbox:\n",
    "        temp=[]\n",
    "        for k in j:\n",
    "            temp.append(int(k.item()))\n",
    "        bound.append(temp)\n",
    "    for j in bound:\n",
    "        temp=img[j[1]:j[3],j[0]:j[2]]\n",
    "        temp=get_grayscale(temp)\n",
    "#         line_img(temp)\n",
    "        angle=skew_angle_hough_transform(temp)\n",
    "        temp=rotation(temp,angle)\n",
    "        result=reader.readtext(temp)\n",
    "        if(len(result)>0):\n",
    "            top_left= tuple([int(k) for k in result[-1][0][0]])\n",
    "            bottom_right= tuple([int(k) for k in result[-1][0][2]])\n",
    "            text = result[-1][1]\n",
    "            font = cv2.FONT_HERSHEY_SIMPLEX\n",
    "            temp= cv2.rectangle(img,(j[0],j[1]),(j[2],j[3]),(0,255,0),5)\n",
    "            temp= cv2.putText(img,text,(j[0],j[1]),font,.5,(255,255,255),2,cv2.LINE_AA)\n",
    "        cv2.imshow(\"\",temp)\n",
    "        cv2.waitKey(0)\n",
    "cv2.destroyAllWindows()\n",
    "        \n",
    "    "
   ]
  },
  {
   "cell_type": "markdown",
   "id": "50dcf8bf",
   "metadata": {},
   "source": [
    "# live capture"
   ]
  },
  {
   "cell_type": "code",
   "execution_count": 129,
   "id": "f87bfe98",
   "metadata": {},
   "outputs": [
    {
     "name": "stderr",
     "output_type": "stream",
     "text": [
      "C:\\Users\\kuber\\AppData\\Local\\Temp\\ipykernel_11124\\2873010673.py:11: FutureWarning: Unlike other reduction functions (e.g. `skew`, `kurtosis`), the default behavior of `mode` typically preserves the axis it acts along. In SciPy 1.11.0, this behavior will change: the default value of `keepdims` will become False, the `axis` over which the statistic is taken will be eliminated, and the value None will no longer be accepted. Set `keepdims` to True or False to avoid this warning.\n",
      "  most_common_angle = mode(np.around(angles, decimals=2))[0]\n",
      "C:\\Users\\kuber\\AppData\\Local\\Temp\\ipykernel_11124\\2873010673.py:11: FutureWarning: Unlike other reduction functions (e.g. `skew`, `kurtosis`), the default behavior of `mode` typically preserves the axis it acts along. In SciPy 1.11.0, this behavior will change: the default value of `keepdims` will become False, the `axis` over which the statistic is taken will be eliminated, and the value None will no longer be accepted. Set `keepdims` to True or False to avoid this warning.\n",
      "  most_common_angle = mode(np.around(angles, decimals=2))[0]\n",
      "C:\\Users\\kuber\\AppData\\Local\\Temp\\ipykernel_11124\\2873010673.py:11: FutureWarning: Unlike other reduction functions (e.g. `skew`, `kurtosis`), the default behavior of `mode` typically preserves the axis it acts along. In SciPy 1.11.0, this behavior will change: the default value of `keepdims` will become False, the `axis` over which the statistic is taken will be eliminated, and the value None will no longer be accepted. Set `keepdims` to True or False to avoid this warning.\n",
      "  most_common_angle = mode(np.around(angles, decimals=2))[0]\n",
      "C:\\Users\\kuber\\AppData\\Local\\Temp\\ipykernel_11124\\2873010673.py:11: FutureWarning: Unlike other reduction functions (e.g. `skew`, `kurtosis`), the default behavior of `mode` typically preserves the axis it acts along. In SciPy 1.11.0, this behavior will change: the default value of `keepdims` will become False, the `axis` over which the statistic is taken will be eliminated, and the value None will no longer be accepted. Set `keepdims` to True or False to avoid this warning.\n",
      "  most_common_angle = mode(np.around(angles, decimals=2))[0]\n",
      "C:\\Users\\kuber\\AppData\\Local\\Temp\\ipykernel_11124\\2873010673.py:11: FutureWarning: Unlike other reduction functions (e.g. `skew`, `kurtosis`), the default behavior of `mode` typically preserves the axis it acts along. In SciPy 1.11.0, this behavior will change: the default value of `keepdims` will become False, the `axis` over which the statistic is taken will be eliminated, and the value None will no longer be accepted. Set `keepdims` to True or False to avoid this warning.\n",
      "  most_common_angle = mode(np.around(angles, decimals=2))[0]\n",
      "C:\\Users\\kuber\\AppData\\Local\\Temp\\ipykernel_11124\\2873010673.py:11: FutureWarning: Unlike other reduction functions (e.g. `skew`, `kurtosis`), the default behavior of `mode` typically preserves the axis it acts along. In SciPy 1.11.0, this behavior will change: the default value of `keepdims` will become False, the `axis` over which the statistic is taken will be eliminated, and the value None will no longer be accepted. Set `keepdims` to True or False to avoid this warning.\n",
      "  most_common_angle = mode(np.around(angles, decimals=2))[0]\n",
      "C:\\Users\\kuber\\AppData\\Local\\Temp\\ipykernel_11124\\2873010673.py:11: FutureWarning: Unlike other reduction functions (e.g. `skew`, `kurtosis`), the default behavior of `mode` typically preserves the axis it acts along. In SciPy 1.11.0, this behavior will change: the default value of `keepdims` will become False, the `axis` over which the statistic is taken will be eliminated, and the value None will no longer be accepted. Set `keepdims` to True or False to avoid this warning.\n",
      "  most_common_angle = mode(np.around(angles, decimals=2))[0]\n",
      "C:\\Users\\kuber\\AppData\\Local\\Temp\\ipykernel_11124\\2873010673.py:11: FutureWarning: Unlike other reduction functions (e.g. `skew`, `kurtosis`), the default behavior of `mode` typically preserves the axis it acts along. In SciPy 1.11.0, this behavior will change: the default value of `keepdims` will become False, the `axis` over which the statistic is taken will be eliminated, and the value None will no longer be accepted. Set `keepdims` to True or False to avoid this warning.\n",
      "  most_common_angle = mode(np.around(angles, decimals=2))[0]\n",
      "C:\\Users\\kuber\\AppData\\Local\\Temp\\ipykernel_11124\\2873010673.py:11: FutureWarning: Unlike other reduction functions (e.g. `skew`, `kurtosis`), the default behavior of `mode` typically preserves the axis it acts along. In SciPy 1.11.0, this behavior will change: the default value of `keepdims` will become False, the `axis` over which the statistic is taken will be eliminated, and the value None will no longer be accepted. Set `keepdims` to True or False to avoid this warning.\n",
      "  most_common_angle = mode(np.around(angles, decimals=2))[0]\n",
      "C:\\Users\\kuber\\AppData\\Local\\Temp\\ipykernel_11124\\2873010673.py:11: FutureWarning: Unlike other reduction functions (e.g. `skew`, `kurtosis`), the default behavior of `mode` typically preserves the axis it acts along. In SciPy 1.11.0, this behavior will change: the default value of `keepdims` will become False, the `axis` over which the statistic is taken will be eliminated, and the value None will no longer be accepted. Set `keepdims` to True or False to avoid this warning.\n",
      "  most_common_angle = mode(np.around(angles, decimals=2))[0]\n",
      "C:\\Users\\kuber\\AppData\\Local\\Temp\\ipykernel_11124\\2873010673.py:11: FutureWarning: Unlike other reduction functions (e.g. `skew`, `kurtosis`), the default behavior of `mode` typically preserves the axis it acts along. In SciPy 1.11.0, this behavior will change: the default value of `keepdims` will become False, the `axis` over which the statistic is taken will be eliminated, and the value None will no longer be accepted. Set `keepdims` to True or False to avoid this warning.\n",
      "  most_common_angle = mode(np.around(angles, decimals=2))[0]\n",
      "C:\\Users\\kuber\\AppData\\Local\\Temp\\ipykernel_11124\\2873010673.py:11: FutureWarning: Unlike other reduction functions (e.g. `skew`, `kurtosis`), the default behavior of `mode` typically preserves the axis it acts along. In SciPy 1.11.0, this behavior will change: the default value of `keepdims` will become False, the `axis` over which the statistic is taken will be eliminated, and the value None will no longer be accepted. Set `keepdims` to True or False to avoid this warning.\n",
      "  most_common_angle = mode(np.around(angles, decimals=2))[0]\n",
      "C:\\Users\\kuber\\AppData\\Local\\Temp\\ipykernel_11124\\2873010673.py:11: FutureWarning: Unlike other reduction functions (e.g. `skew`, `kurtosis`), the default behavior of `mode` typically preserves the axis it acts along. In SciPy 1.11.0, this behavior will change: the default value of `keepdims` will become False, the `axis` over which the statistic is taken will be eliminated, and the value None will no longer be accepted. Set `keepdims` to True or False to avoid this warning.\n",
      "  most_common_angle = mode(np.around(angles, decimals=2))[0]\n",
      "C:\\Users\\kuber\\AppData\\Local\\Temp\\ipykernel_11124\\2873010673.py:11: FutureWarning: Unlike other reduction functions (e.g. `skew`, `kurtosis`), the default behavior of `mode` typically preserves the axis it acts along. In SciPy 1.11.0, this behavior will change: the default value of `keepdims` will become False, the `axis` over which the statistic is taken will be eliminated, and the value None will no longer be accepted. Set `keepdims` to True or False to avoid this warning.\n",
      "  most_common_angle = mode(np.around(angles, decimals=2))[0]\n",
      "C:\\Users\\kuber\\AppData\\Local\\Temp\\ipykernel_11124\\2873010673.py:11: FutureWarning: Unlike other reduction functions (e.g. `skew`, `kurtosis`), the default behavior of `mode` typically preserves the axis it acts along. In SciPy 1.11.0, this behavior will change: the default value of `keepdims` will become False, the `axis` over which the statistic is taken will be eliminated, and the value None will no longer be accepted. Set `keepdims` to True or False to avoid this warning.\n",
      "  most_common_angle = mode(np.around(angles, decimals=2))[0]\n",
      "C:\\Users\\kuber\\AppData\\Local\\Temp\\ipykernel_11124\\2873010673.py:11: FutureWarning: Unlike other reduction functions (e.g. `skew`, `kurtosis`), the default behavior of `mode` typically preserves the axis it acts along. In SciPy 1.11.0, this behavior will change: the default value of `keepdims` will become False, the `axis` over which the statistic is taken will be eliminated, and the value None will no longer be accepted. Set `keepdims` to True or False to avoid this warning.\n",
      "  most_common_angle = mode(np.around(angles, decimals=2))[0]\n"
     ]
    },
    {
     "name": "stderr",
     "output_type": "stream",
     "text": [
      "C:\\Users\\kuber\\AppData\\Local\\Temp\\ipykernel_11124\\2873010673.py:11: FutureWarning: Unlike other reduction functions (e.g. `skew`, `kurtosis`), the default behavior of `mode` typically preserves the axis it acts along. In SciPy 1.11.0, this behavior will change: the default value of `keepdims` will become False, the `axis` over which the statistic is taken will be eliminated, and the value None will no longer be accepted. Set `keepdims` to True or False to avoid this warning.\n",
      "  most_common_angle = mode(np.around(angles, decimals=2))[0]\n",
      "C:\\Users\\kuber\\AppData\\Local\\Temp\\ipykernel_11124\\2873010673.py:11: FutureWarning: Unlike other reduction functions (e.g. `skew`, `kurtosis`), the default behavior of `mode` typically preserves the axis it acts along. In SciPy 1.11.0, this behavior will change: the default value of `keepdims` will become False, the `axis` over which the statistic is taken will be eliminated, and the value None will no longer be accepted. Set `keepdims` to True or False to avoid this warning.\n",
      "  most_common_angle = mode(np.around(angles, decimals=2))[0]\n",
      "C:\\Users\\kuber\\AppData\\Local\\Temp\\ipykernel_11124\\2873010673.py:11: FutureWarning: Unlike other reduction functions (e.g. `skew`, `kurtosis`), the default behavior of `mode` typically preserves the axis it acts along. In SciPy 1.11.0, this behavior will change: the default value of `keepdims` will become False, the `axis` over which the statistic is taken will be eliminated, and the value None will no longer be accepted. Set `keepdims` to True or False to avoid this warning.\n",
      "  most_common_angle = mode(np.around(angles, decimals=2))[0]\n",
      "C:\\Users\\kuber\\AppData\\Local\\Temp\\ipykernel_11124\\2873010673.py:11: FutureWarning: Unlike other reduction functions (e.g. `skew`, `kurtosis`), the default behavior of `mode` typically preserves the axis it acts along. In SciPy 1.11.0, this behavior will change: the default value of `keepdims` will become False, the `axis` over which the statistic is taken will be eliminated, and the value None will no longer be accepted. Set `keepdims` to True or False to avoid this warning.\n",
      "  most_common_angle = mode(np.around(angles, decimals=2))[0]\n",
      "C:\\Users\\kuber\\AppData\\Local\\Temp\\ipykernel_11124\\2873010673.py:11: FutureWarning: Unlike other reduction functions (e.g. `skew`, `kurtosis`), the default behavior of `mode` typically preserves the axis it acts along. In SciPy 1.11.0, this behavior will change: the default value of `keepdims` will become False, the `axis` over which the statistic is taken will be eliminated, and the value None will no longer be accepted. Set `keepdims` to True or False to avoid this warning.\n",
      "  most_common_angle = mode(np.around(angles, decimals=2))[0]\n",
      "C:\\Users\\kuber\\AppData\\Local\\Temp\\ipykernel_11124\\2873010673.py:11: FutureWarning: Unlike other reduction functions (e.g. `skew`, `kurtosis`), the default behavior of `mode` typically preserves the axis it acts along. In SciPy 1.11.0, this behavior will change: the default value of `keepdims` will become False, the `axis` over which the statistic is taken will be eliminated, and the value None will no longer be accepted. Set `keepdims` to True or False to avoid this warning.\n",
      "  most_common_angle = mode(np.around(angles, decimals=2))[0]\n",
      "C:\\Users\\kuber\\AppData\\Local\\Temp\\ipykernel_11124\\2873010673.py:11: FutureWarning: Unlike other reduction functions (e.g. `skew`, `kurtosis`), the default behavior of `mode` typically preserves the axis it acts along. In SciPy 1.11.0, this behavior will change: the default value of `keepdims` will become False, the `axis` over which the statistic is taken will be eliminated, and the value None will no longer be accepted. Set `keepdims` to True or False to avoid this warning.\n",
      "  most_common_angle = mode(np.around(angles, decimals=2))[0]\n",
      "C:\\Users\\kuber\\AppData\\Local\\Temp\\ipykernel_11124\\2873010673.py:11: FutureWarning: Unlike other reduction functions (e.g. `skew`, `kurtosis`), the default behavior of `mode` typically preserves the axis it acts along. In SciPy 1.11.0, this behavior will change: the default value of `keepdims` will become False, the `axis` over which the statistic is taken will be eliminated, and the value None will no longer be accepted. Set `keepdims` to True or False to avoid this warning.\n",
      "  most_common_angle = mode(np.around(angles, decimals=2))[0]\n",
      "C:\\Users\\kuber\\AppData\\Local\\Temp\\ipykernel_11124\\2873010673.py:11: FutureWarning: Unlike other reduction functions (e.g. `skew`, `kurtosis`), the default behavior of `mode` typically preserves the axis it acts along. In SciPy 1.11.0, this behavior will change: the default value of `keepdims` will become False, the `axis` over which the statistic is taken will be eliminated, and the value None will no longer be accepted. Set `keepdims` to True or False to avoid this warning.\n",
      "  most_common_angle = mode(np.around(angles, decimals=2))[0]\n",
      "C:\\Users\\kuber\\AppData\\Local\\Temp\\ipykernel_11124\\2873010673.py:11: FutureWarning: Unlike other reduction functions (e.g. `skew`, `kurtosis`), the default behavior of `mode` typically preserves the axis it acts along. In SciPy 1.11.0, this behavior will change: the default value of `keepdims` will become False, the `axis` over which the statistic is taken will be eliminated, and the value None will no longer be accepted. Set `keepdims` to True or False to avoid this warning.\n",
      "  most_common_angle = mode(np.around(angles, decimals=2))[0]\n",
      "C:\\Users\\kuber\\AppData\\Local\\Temp\\ipykernel_11124\\2873010673.py:11: FutureWarning: Unlike other reduction functions (e.g. `skew`, `kurtosis`), the default behavior of `mode` typically preserves the axis it acts along. In SciPy 1.11.0, this behavior will change: the default value of `keepdims` will become False, the `axis` over which the statistic is taken will be eliminated, and the value None will no longer be accepted. Set `keepdims` to True or False to avoid this warning.\n",
      "  most_common_angle = mode(np.around(angles, decimals=2))[0]\n",
      "C:\\Users\\kuber\\AppData\\Local\\Temp\\ipykernel_11124\\2873010673.py:11: FutureWarning: Unlike other reduction functions (e.g. `skew`, `kurtosis`), the default behavior of `mode` typically preserves the axis it acts along. In SciPy 1.11.0, this behavior will change: the default value of `keepdims` will become False, the `axis` over which the statistic is taken will be eliminated, and the value None will no longer be accepted. Set `keepdims` to True or False to avoid this warning.\n",
      "  most_common_angle = mode(np.around(angles, decimals=2))[0]\n",
      "C:\\Users\\kuber\\AppData\\Local\\Temp\\ipykernel_11124\\2873010673.py:11: FutureWarning: Unlike other reduction functions (e.g. `skew`, `kurtosis`), the default behavior of `mode` typically preserves the axis it acts along. In SciPy 1.11.0, this behavior will change: the default value of `keepdims` will become False, the `axis` over which the statistic is taken will be eliminated, and the value None will no longer be accepted. Set `keepdims` to True or False to avoid this warning.\n",
      "  most_common_angle = mode(np.around(angles, decimals=2))[0]\n",
      "C:\\Users\\kuber\\AppData\\Local\\Temp\\ipykernel_11124\\2873010673.py:11: FutureWarning: Unlike other reduction functions (e.g. `skew`, `kurtosis`), the default behavior of `mode` typically preserves the axis it acts along. In SciPy 1.11.0, this behavior will change: the default value of `keepdims` will become False, the `axis` over which the statistic is taken will be eliminated, and the value None will no longer be accepted. Set `keepdims` to True or False to avoid this warning.\n",
      "  most_common_angle = mode(np.around(angles, decimals=2))[0]\n",
      "C:\\Users\\kuber\\AppData\\Local\\Temp\\ipykernel_11124\\2873010673.py:11: FutureWarning: Unlike other reduction functions (e.g. `skew`, `kurtosis`), the default behavior of `mode` typically preserves the axis it acts along. In SciPy 1.11.0, this behavior will change: the default value of `keepdims` will become False, the `axis` over which the statistic is taken will be eliminated, and the value None will no longer be accepted. Set `keepdims` to True or False to avoid this warning.\n",
      "  most_common_angle = mode(np.around(angles, decimals=2))[0]\n",
      "C:\\Users\\kuber\\AppData\\Local\\Temp\\ipykernel_11124\\2873010673.py:11: FutureWarning: Unlike other reduction functions (e.g. `skew`, `kurtosis`), the default behavior of `mode` typically preserves the axis it acts along. In SciPy 1.11.0, this behavior will change: the default value of `keepdims` will become False, the `axis` over which the statistic is taken will be eliminated, and the value None will no longer be accepted. Set `keepdims` to True or False to avoid this warning.\n",
      "  most_common_angle = mode(np.around(angles, decimals=2))[0]\n"
     ]
    },
    {
     "name": "stderr",
     "output_type": "stream",
     "text": [
      "C:\\Users\\kuber\\AppData\\Local\\Temp\\ipykernel_11124\\2873010673.py:11: FutureWarning: Unlike other reduction functions (e.g. `skew`, `kurtosis`), the default behavior of `mode` typically preserves the axis it acts along. In SciPy 1.11.0, this behavior will change: the default value of `keepdims` will become False, the `axis` over which the statistic is taken will be eliminated, and the value None will no longer be accepted. Set `keepdims` to True or False to avoid this warning.\n",
      "  most_common_angle = mode(np.around(angles, decimals=2))[0]\n",
      "C:\\Users\\kuber\\AppData\\Local\\Temp\\ipykernel_11124\\2873010673.py:11: FutureWarning: Unlike other reduction functions (e.g. `skew`, `kurtosis`), the default behavior of `mode` typically preserves the axis it acts along. In SciPy 1.11.0, this behavior will change: the default value of `keepdims` will become False, the `axis` over which the statistic is taken will be eliminated, and the value None will no longer be accepted. Set `keepdims` to True or False to avoid this warning.\n",
      "  most_common_angle = mode(np.around(angles, decimals=2))[0]\n",
      "C:\\Users\\kuber\\AppData\\Local\\Temp\\ipykernel_11124\\2873010673.py:11: FutureWarning: Unlike other reduction functions (e.g. `skew`, `kurtosis`), the default behavior of `mode` typically preserves the axis it acts along. In SciPy 1.11.0, this behavior will change: the default value of `keepdims` will become False, the `axis` over which the statistic is taken will be eliminated, and the value None will no longer be accepted. Set `keepdims` to True or False to avoid this warning.\n",
      "  most_common_angle = mode(np.around(angles, decimals=2))[0]\n",
      "C:\\Users\\kuber\\AppData\\Local\\Temp\\ipykernel_11124\\2873010673.py:11: FutureWarning: Unlike other reduction functions (e.g. `skew`, `kurtosis`), the default behavior of `mode` typically preserves the axis it acts along. In SciPy 1.11.0, this behavior will change: the default value of `keepdims` will become False, the `axis` over which the statistic is taken will be eliminated, and the value None will no longer be accepted. Set `keepdims` to True or False to avoid this warning.\n",
      "  most_common_angle = mode(np.around(angles, decimals=2))[0]\n",
      "C:\\Users\\kuber\\AppData\\Local\\Temp\\ipykernel_11124\\2873010673.py:11: FutureWarning: Unlike other reduction functions (e.g. `skew`, `kurtosis`), the default behavior of `mode` typically preserves the axis it acts along. In SciPy 1.11.0, this behavior will change: the default value of `keepdims` will become False, the `axis` over which the statistic is taken will be eliminated, and the value None will no longer be accepted. Set `keepdims` to True or False to avoid this warning.\n",
      "  most_common_angle = mode(np.around(angles, decimals=2))[0]\n",
      "C:\\Users\\kuber\\AppData\\Local\\Temp\\ipykernel_11124\\2873010673.py:11: FutureWarning: Unlike other reduction functions (e.g. `skew`, `kurtosis`), the default behavior of `mode` typically preserves the axis it acts along. In SciPy 1.11.0, this behavior will change: the default value of `keepdims` will become False, the `axis` over which the statistic is taken will be eliminated, and the value None will no longer be accepted. Set `keepdims` to True or False to avoid this warning.\n",
      "  most_common_angle = mode(np.around(angles, decimals=2))[0]\n",
      "C:\\Users\\kuber\\AppData\\Local\\Temp\\ipykernel_11124\\2873010673.py:11: FutureWarning: Unlike other reduction functions (e.g. `skew`, `kurtosis`), the default behavior of `mode` typically preserves the axis it acts along. In SciPy 1.11.0, this behavior will change: the default value of `keepdims` will become False, the `axis` over which the statistic is taken will be eliminated, and the value None will no longer be accepted. Set `keepdims` to True or False to avoid this warning.\n",
      "  most_common_angle = mode(np.around(angles, decimals=2))[0]\n",
      "C:\\Users\\kuber\\AppData\\Local\\Temp\\ipykernel_11124\\2873010673.py:11: FutureWarning: Unlike other reduction functions (e.g. `skew`, `kurtosis`), the default behavior of `mode` typically preserves the axis it acts along. In SciPy 1.11.0, this behavior will change: the default value of `keepdims` will become False, the `axis` over which the statistic is taken will be eliminated, and the value None will no longer be accepted. Set `keepdims` to True or False to avoid this warning.\n",
      "  most_common_angle = mode(np.around(angles, decimals=2))[0]\n",
      "C:\\Users\\kuber\\AppData\\Local\\Temp\\ipykernel_11124\\2873010673.py:11: FutureWarning: Unlike other reduction functions (e.g. `skew`, `kurtosis`), the default behavior of `mode` typically preserves the axis it acts along. In SciPy 1.11.0, this behavior will change: the default value of `keepdims` will become False, the `axis` over which the statistic is taken will be eliminated, and the value None will no longer be accepted. Set `keepdims` to True or False to avoid this warning.\n",
      "  most_common_angle = mode(np.around(angles, decimals=2))[0]\n",
      "C:\\Users\\kuber\\AppData\\Local\\Temp\\ipykernel_11124\\2873010673.py:11: FutureWarning: Unlike other reduction functions (e.g. `skew`, `kurtosis`), the default behavior of `mode` typically preserves the axis it acts along. In SciPy 1.11.0, this behavior will change: the default value of `keepdims` will become False, the `axis` over which the statistic is taken will be eliminated, and the value None will no longer be accepted. Set `keepdims` to True or False to avoid this warning.\n",
      "  most_common_angle = mode(np.around(angles, decimals=2))[0]\n",
      "C:\\Users\\kuber\\AppData\\Local\\Temp\\ipykernel_11124\\2873010673.py:11: FutureWarning: Unlike other reduction functions (e.g. `skew`, `kurtosis`), the default behavior of `mode` typically preserves the axis it acts along. In SciPy 1.11.0, this behavior will change: the default value of `keepdims` will become False, the `axis` over which the statistic is taken will be eliminated, and the value None will no longer be accepted. Set `keepdims` to True or False to avoid this warning.\n",
      "  most_common_angle = mode(np.around(angles, decimals=2))[0]\n",
      "C:\\Users\\kuber\\AppData\\Local\\Temp\\ipykernel_11124\\2873010673.py:11: FutureWarning: Unlike other reduction functions (e.g. `skew`, `kurtosis`), the default behavior of `mode` typically preserves the axis it acts along. In SciPy 1.11.0, this behavior will change: the default value of `keepdims` will become False, the `axis` over which the statistic is taken will be eliminated, and the value None will no longer be accepted. Set `keepdims` to True or False to avoid this warning.\n",
      "  most_common_angle = mode(np.around(angles, decimals=2))[0]\n",
      "C:\\Users\\kuber\\AppData\\Local\\Temp\\ipykernel_11124\\2873010673.py:11: FutureWarning: Unlike other reduction functions (e.g. `skew`, `kurtosis`), the default behavior of `mode` typically preserves the axis it acts along. In SciPy 1.11.0, this behavior will change: the default value of `keepdims` will become False, the `axis` over which the statistic is taken will be eliminated, and the value None will no longer be accepted. Set `keepdims` to True or False to avoid this warning.\n",
      "  most_common_angle = mode(np.around(angles, decimals=2))[0]\n",
      "C:\\Users\\kuber\\AppData\\Local\\Temp\\ipykernel_11124\\2873010673.py:11: FutureWarning: Unlike other reduction functions (e.g. `skew`, `kurtosis`), the default behavior of `mode` typically preserves the axis it acts along. In SciPy 1.11.0, this behavior will change: the default value of `keepdims` will become False, the `axis` over which the statistic is taken will be eliminated, and the value None will no longer be accepted. Set `keepdims` to True or False to avoid this warning.\n",
      "  most_common_angle = mode(np.around(angles, decimals=2))[0]\n",
      "C:\\Users\\kuber\\AppData\\Local\\Temp\\ipykernel_11124\\2873010673.py:11: FutureWarning: Unlike other reduction functions (e.g. `skew`, `kurtosis`), the default behavior of `mode` typically preserves the axis it acts along. In SciPy 1.11.0, this behavior will change: the default value of `keepdims` will become False, the `axis` over which the statistic is taken will be eliminated, and the value None will no longer be accepted. Set `keepdims` to True or False to avoid this warning.\n",
      "  most_common_angle = mode(np.around(angles, decimals=2))[0]\n",
      "C:\\Users\\kuber\\AppData\\Local\\Temp\\ipykernel_11124\\2873010673.py:11: FutureWarning: Unlike other reduction functions (e.g. `skew`, `kurtosis`), the default behavior of `mode` typically preserves the axis it acts along. In SciPy 1.11.0, this behavior will change: the default value of `keepdims` will become False, the `axis` over which the statistic is taken will be eliminated, and the value None will no longer be accepted. Set `keepdims` to True or False to avoid this warning.\n",
      "  most_common_angle = mode(np.around(angles, decimals=2))[0]\n"
     ]
    },
    {
     "name": "stderr",
     "output_type": "stream",
     "text": [
      "C:\\Users\\kuber\\AppData\\Local\\Temp\\ipykernel_11124\\2873010673.py:11: FutureWarning: Unlike other reduction functions (e.g. `skew`, `kurtosis`), the default behavior of `mode` typically preserves the axis it acts along. In SciPy 1.11.0, this behavior will change: the default value of `keepdims` will become False, the `axis` over which the statistic is taken will be eliminated, and the value None will no longer be accepted. Set `keepdims` to True or False to avoid this warning.\n",
      "  most_common_angle = mode(np.around(angles, decimals=2))[0]\n",
      "C:\\Users\\kuber\\AppData\\Local\\Temp\\ipykernel_11124\\2873010673.py:11: FutureWarning: Unlike other reduction functions (e.g. `skew`, `kurtosis`), the default behavior of `mode` typically preserves the axis it acts along. In SciPy 1.11.0, this behavior will change: the default value of `keepdims` will become False, the `axis` over which the statistic is taken will be eliminated, and the value None will no longer be accepted. Set `keepdims` to True or False to avoid this warning.\n",
      "  most_common_angle = mode(np.around(angles, decimals=2))[0]\n",
      "C:\\Users\\kuber\\AppData\\Local\\Temp\\ipykernel_11124\\2873010673.py:11: FutureWarning: Unlike other reduction functions (e.g. `skew`, `kurtosis`), the default behavior of `mode` typically preserves the axis it acts along. In SciPy 1.11.0, this behavior will change: the default value of `keepdims` will become False, the `axis` over which the statistic is taken will be eliminated, and the value None will no longer be accepted. Set `keepdims` to True or False to avoid this warning.\n",
      "  most_common_angle = mode(np.around(angles, decimals=2))[0]\n",
      "C:\\Users\\kuber\\AppData\\Local\\Temp\\ipykernel_11124\\2873010673.py:11: FutureWarning: Unlike other reduction functions (e.g. `skew`, `kurtosis`), the default behavior of `mode` typically preserves the axis it acts along. In SciPy 1.11.0, this behavior will change: the default value of `keepdims` will become False, the `axis` over which the statistic is taken will be eliminated, and the value None will no longer be accepted. Set `keepdims` to True or False to avoid this warning.\n",
      "  most_common_angle = mode(np.around(angles, decimals=2))[0]\n",
      "C:\\Users\\kuber\\AppData\\Local\\Temp\\ipykernel_11124\\2873010673.py:11: FutureWarning: Unlike other reduction functions (e.g. `skew`, `kurtosis`), the default behavior of `mode` typically preserves the axis it acts along. In SciPy 1.11.0, this behavior will change: the default value of `keepdims` will become False, the `axis` over which the statistic is taken will be eliminated, and the value None will no longer be accepted. Set `keepdims` to True or False to avoid this warning.\n",
      "  most_common_angle = mode(np.around(angles, decimals=2))[0]\n",
      "C:\\Users\\kuber\\AppData\\Local\\Temp\\ipykernel_11124\\2873010673.py:11: FutureWarning: Unlike other reduction functions (e.g. `skew`, `kurtosis`), the default behavior of `mode` typically preserves the axis it acts along. In SciPy 1.11.0, this behavior will change: the default value of `keepdims` will become False, the `axis` over which the statistic is taken will be eliminated, and the value None will no longer be accepted. Set `keepdims` to True or False to avoid this warning.\n",
      "  most_common_angle = mode(np.around(angles, decimals=2))[0]\n",
      "C:\\Users\\kuber\\AppData\\Local\\Temp\\ipykernel_11124\\2873010673.py:11: FutureWarning: Unlike other reduction functions (e.g. `skew`, `kurtosis`), the default behavior of `mode` typically preserves the axis it acts along. In SciPy 1.11.0, this behavior will change: the default value of `keepdims` will become False, the `axis` over which the statistic is taken will be eliminated, and the value None will no longer be accepted. Set `keepdims` to True or False to avoid this warning.\n",
      "  most_common_angle = mode(np.around(angles, decimals=2))[0]\n",
      "C:\\Users\\kuber\\AppData\\Local\\Temp\\ipykernel_11124\\2873010673.py:11: FutureWarning: Unlike other reduction functions (e.g. `skew`, `kurtosis`), the default behavior of `mode` typically preserves the axis it acts along. In SciPy 1.11.0, this behavior will change: the default value of `keepdims` will become False, the `axis` over which the statistic is taken will be eliminated, and the value None will no longer be accepted. Set `keepdims` to True or False to avoid this warning.\n",
      "  most_common_angle = mode(np.around(angles, decimals=2))[0]\n",
      "C:\\Users\\kuber\\AppData\\Local\\Temp\\ipykernel_11124\\2873010673.py:11: FutureWarning: Unlike other reduction functions (e.g. `skew`, `kurtosis`), the default behavior of `mode` typically preserves the axis it acts along. In SciPy 1.11.0, this behavior will change: the default value of `keepdims` will become False, the `axis` over which the statistic is taken will be eliminated, and the value None will no longer be accepted. Set `keepdims` to True or False to avoid this warning.\n",
      "  most_common_angle = mode(np.around(angles, decimals=2))[0]\n",
      "C:\\Users\\kuber\\AppData\\Local\\Temp\\ipykernel_11124\\2873010673.py:11: FutureWarning: Unlike other reduction functions (e.g. `skew`, `kurtosis`), the default behavior of `mode` typically preserves the axis it acts along. In SciPy 1.11.0, this behavior will change: the default value of `keepdims` will become False, the `axis` over which the statistic is taken will be eliminated, and the value None will no longer be accepted. Set `keepdims` to True or False to avoid this warning.\n",
      "  most_common_angle = mode(np.around(angles, decimals=2))[0]\n",
      "C:\\Users\\kuber\\AppData\\Local\\Temp\\ipykernel_11124\\2873010673.py:11: FutureWarning: Unlike other reduction functions (e.g. `skew`, `kurtosis`), the default behavior of `mode` typically preserves the axis it acts along. In SciPy 1.11.0, this behavior will change: the default value of `keepdims` will become False, the `axis` over which the statistic is taken will be eliminated, and the value None will no longer be accepted. Set `keepdims` to True or False to avoid this warning.\n",
      "  most_common_angle = mode(np.around(angles, decimals=2))[0]\n",
      "C:\\Users\\kuber\\AppData\\Local\\Temp\\ipykernel_11124\\2873010673.py:11: FutureWarning: Unlike other reduction functions (e.g. `skew`, `kurtosis`), the default behavior of `mode` typically preserves the axis it acts along. In SciPy 1.11.0, this behavior will change: the default value of `keepdims` will become False, the `axis` over which the statistic is taken will be eliminated, and the value None will no longer be accepted. Set `keepdims` to True or False to avoid this warning.\n",
      "  most_common_angle = mode(np.around(angles, decimals=2))[0]\n",
      "C:\\Users\\kuber\\AppData\\Local\\Temp\\ipykernel_11124\\2873010673.py:11: FutureWarning: Unlike other reduction functions (e.g. `skew`, `kurtosis`), the default behavior of `mode` typically preserves the axis it acts along. In SciPy 1.11.0, this behavior will change: the default value of `keepdims` will become False, the `axis` over which the statistic is taken will be eliminated, and the value None will no longer be accepted. Set `keepdims` to True or False to avoid this warning.\n",
      "  most_common_angle = mode(np.around(angles, decimals=2))[0]\n",
      "C:\\Users\\kuber\\AppData\\Local\\Temp\\ipykernel_11124\\2873010673.py:11: FutureWarning: Unlike other reduction functions (e.g. `skew`, `kurtosis`), the default behavior of `mode` typically preserves the axis it acts along. In SciPy 1.11.0, this behavior will change: the default value of `keepdims` will become False, the `axis` over which the statistic is taken will be eliminated, and the value None will no longer be accepted. Set `keepdims` to True or False to avoid this warning.\n",
      "  most_common_angle = mode(np.around(angles, decimals=2))[0]\n",
      "C:\\Users\\kuber\\AppData\\Local\\Temp\\ipykernel_11124\\2873010673.py:11: FutureWarning: Unlike other reduction functions (e.g. `skew`, `kurtosis`), the default behavior of `mode` typically preserves the axis it acts along. In SciPy 1.11.0, this behavior will change: the default value of `keepdims` will become False, the `axis` over which the statistic is taken will be eliminated, and the value None will no longer be accepted. Set `keepdims` to True or False to avoid this warning.\n",
      "  most_common_angle = mode(np.around(angles, decimals=2))[0]\n",
      "C:\\Users\\kuber\\AppData\\Local\\Temp\\ipykernel_11124\\2873010673.py:11: FutureWarning: Unlike other reduction functions (e.g. `skew`, `kurtosis`), the default behavior of `mode` typically preserves the axis it acts along. In SciPy 1.11.0, this behavior will change: the default value of `keepdims` will become False, the `axis` over which the statistic is taken will be eliminated, and the value None will no longer be accepted. Set `keepdims` to True or False to avoid this warning.\n",
      "  most_common_angle = mode(np.around(angles, decimals=2))[0]\n"
     ]
    },
    {
     "name": "stderr",
     "output_type": "stream",
     "text": [
      "C:\\Users\\kuber\\AppData\\Local\\Temp\\ipykernel_11124\\2873010673.py:11: FutureWarning: Unlike other reduction functions (e.g. `skew`, `kurtosis`), the default behavior of `mode` typically preserves the axis it acts along. In SciPy 1.11.0, this behavior will change: the default value of `keepdims` will become False, the `axis` over which the statistic is taken will be eliminated, and the value None will no longer be accepted. Set `keepdims` to True or False to avoid this warning.\n",
      "  most_common_angle = mode(np.around(angles, decimals=2))[0]\n",
      "C:\\Users\\kuber\\AppData\\Local\\Temp\\ipykernel_11124\\2873010673.py:11: FutureWarning: Unlike other reduction functions (e.g. `skew`, `kurtosis`), the default behavior of `mode` typically preserves the axis it acts along. In SciPy 1.11.0, this behavior will change: the default value of `keepdims` will become False, the `axis` over which the statistic is taken will be eliminated, and the value None will no longer be accepted. Set `keepdims` to True or False to avoid this warning.\n",
      "  most_common_angle = mode(np.around(angles, decimals=2))[0]\n",
      "C:\\Users\\kuber\\AppData\\Local\\Temp\\ipykernel_11124\\2873010673.py:11: FutureWarning: Unlike other reduction functions (e.g. `skew`, `kurtosis`), the default behavior of `mode` typically preserves the axis it acts along. In SciPy 1.11.0, this behavior will change: the default value of `keepdims` will become False, the `axis` over which the statistic is taken will be eliminated, and the value None will no longer be accepted. Set `keepdims` to True or False to avoid this warning.\n",
      "  most_common_angle = mode(np.around(angles, decimals=2))[0]\n",
      "C:\\Users\\kuber\\AppData\\Local\\Temp\\ipykernel_11124\\2873010673.py:11: FutureWarning: Unlike other reduction functions (e.g. `skew`, `kurtosis`), the default behavior of `mode` typically preserves the axis it acts along. In SciPy 1.11.0, this behavior will change: the default value of `keepdims` will become False, the `axis` over which the statistic is taken will be eliminated, and the value None will no longer be accepted. Set `keepdims` to True or False to avoid this warning.\n",
      "  most_common_angle = mode(np.around(angles, decimals=2))[0]\n",
      "C:\\Users\\kuber\\AppData\\Local\\Temp\\ipykernel_11124\\2873010673.py:11: FutureWarning: Unlike other reduction functions (e.g. `skew`, `kurtosis`), the default behavior of `mode` typically preserves the axis it acts along. In SciPy 1.11.0, this behavior will change: the default value of `keepdims` will become False, the `axis` over which the statistic is taken will be eliminated, and the value None will no longer be accepted. Set `keepdims` to True or False to avoid this warning.\n",
      "  most_common_angle = mode(np.around(angles, decimals=2))[0]\n",
      "C:\\Users\\kuber\\AppData\\Local\\Temp\\ipykernel_11124\\2873010673.py:11: FutureWarning: Unlike other reduction functions (e.g. `skew`, `kurtosis`), the default behavior of `mode` typically preserves the axis it acts along. In SciPy 1.11.0, this behavior will change: the default value of `keepdims` will become False, the `axis` over which the statistic is taken will be eliminated, and the value None will no longer be accepted. Set `keepdims` to True or False to avoid this warning.\n",
      "  most_common_angle = mode(np.around(angles, decimals=2))[0]\n",
      "C:\\Users\\kuber\\AppData\\Local\\Temp\\ipykernel_11124\\2873010673.py:11: FutureWarning: Unlike other reduction functions (e.g. `skew`, `kurtosis`), the default behavior of `mode` typically preserves the axis it acts along. In SciPy 1.11.0, this behavior will change: the default value of `keepdims` will become False, the `axis` over which the statistic is taken will be eliminated, and the value None will no longer be accepted. Set `keepdims` to True or False to avoid this warning.\n",
      "  most_common_angle = mode(np.around(angles, decimals=2))[0]\n",
      "C:\\Users\\kuber\\AppData\\Local\\Temp\\ipykernel_11124\\2873010673.py:11: FutureWarning: Unlike other reduction functions (e.g. `skew`, `kurtosis`), the default behavior of `mode` typically preserves the axis it acts along. In SciPy 1.11.0, this behavior will change: the default value of `keepdims` will become False, the `axis` over which the statistic is taken will be eliminated, and the value None will no longer be accepted. Set `keepdims` to True or False to avoid this warning.\n",
      "  most_common_angle = mode(np.around(angles, decimals=2))[0]\n",
      "C:\\Users\\kuber\\AppData\\Local\\Temp\\ipykernel_11124\\2873010673.py:11: FutureWarning: Unlike other reduction functions (e.g. `skew`, `kurtosis`), the default behavior of `mode` typically preserves the axis it acts along. In SciPy 1.11.0, this behavior will change: the default value of `keepdims` will become False, the `axis` over which the statistic is taken will be eliminated, and the value None will no longer be accepted. Set `keepdims` to True or False to avoid this warning.\n",
      "  most_common_angle = mode(np.around(angles, decimals=2))[0]\n",
      "C:\\Users\\kuber\\AppData\\Local\\Temp\\ipykernel_11124\\2873010673.py:11: FutureWarning: Unlike other reduction functions (e.g. `skew`, `kurtosis`), the default behavior of `mode` typically preserves the axis it acts along. In SciPy 1.11.0, this behavior will change: the default value of `keepdims` will become False, the `axis` over which the statistic is taken will be eliminated, and the value None will no longer be accepted. Set `keepdims` to True or False to avoid this warning.\n",
      "  most_common_angle = mode(np.around(angles, decimals=2))[0]\n",
      "C:\\Users\\kuber\\AppData\\Local\\Temp\\ipykernel_11124\\2873010673.py:11: FutureWarning: Unlike other reduction functions (e.g. `skew`, `kurtosis`), the default behavior of `mode` typically preserves the axis it acts along. In SciPy 1.11.0, this behavior will change: the default value of `keepdims` will become False, the `axis` over which the statistic is taken will be eliminated, and the value None will no longer be accepted. Set `keepdims` to True or False to avoid this warning.\n",
      "  most_common_angle = mode(np.around(angles, decimals=2))[0]\n",
      "C:\\Users\\kuber\\AppData\\Local\\Temp\\ipykernel_11124\\2873010673.py:11: FutureWarning: Unlike other reduction functions (e.g. `skew`, `kurtosis`), the default behavior of `mode` typically preserves the axis it acts along. In SciPy 1.11.0, this behavior will change: the default value of `keepdims` will become False, the `axis` over which the statistic is taken will be eliminated, and the value None will no longer be accepted. Set `keepdims` to True or False to avoid this warning.\n",
      "  most_common_angle = mode(np.around(angles, decimals=2))[0]\n",
      "C:\\Users\\kuber\\AppData\\Local\\Temp\\ipykernel_11124\\2873010673.py:11: FutureWarning: Unlike other reduction functions (e.g. `skew`, `kurtosis`), the default behavior of `mode` typically preserves the axis it acts along. In SciPy 1.11.0, this behavior will change: the default value of `keepdims` will become False, the `axis` over which the statistic is taken will be eliminated, and the value None will no longer be accepted. Set `keepdims` to True or False to avoid this warning.\n",
      "  most_common_angle = mode(np.around(angles, decimals=2))[0]\n",
      "C:\\Users\\kuber\\AppData\\Local\\Temp\\ipykernel_11124\\2873010673.py:11: FutureWarning: Unlike other reduction functions (e.g. `skew`, `kurtosis`), the default behavior of `mode` typically preserves the axis it acts along. In SciPy 1.11.0, this behavior will change: the default value of `keepdims` will become False, the `axis` over which the statistic is taken will be eliminated, and the value None will no longer be accepted. Set `keepdims` to True or False to avoid this warning.\n",
      "  most_common_angle = mode(np.around(angles, decimals=2))[0]\n",
      "C:\\Users\\kuber\\AppData\\Local\\Temp\\ipykernel_11124\\2873010673.py:11: FutureWarning: Unlike other reduction functions (e.g. `skew`, `kurtosis`), the default behavior of `mode` typically preserves the axis it acts along. In SciPy 1.11.0, this behavior will change: the default value of `keepdims` will become False, the `axis` over which the statistic is taken will be eliminated, and the value None will no longer be accepted. Set `keepdims` to True or False to avoid this warning.\n",
      "  most_common_angle = mode(np.around(angles, decimals=2))[0]\n",
      "C:\\Users\\kuber\\AppData\\Local\\Temp\\ipykernel_11124\\2873010673.py:11: FutureWarning: Unlike other reduction functions (e.g. `skew`, `kurtosis`), the default behavior of `mode` typically preserves the axis it acts along. In SciPy 1.11.0, this behavior will change: the default value of `keepdims` will become False, the `axis` over which the statistic is taken will be eliminated, and the value None will no longer be accepted. Set `keepdims` to True or False to avoid this warning.\n",
      "  most_common_angle = mode(np.around(angles, decimals=2))[0]\n"
     ]
    },
    {
     "name": "stderr",
     "output_type": "stream",
     "text": [
      "C:\\Users\\kuber\\AppData\\Local\\Temp\\ipykernel_11124\\2873010673.py:11: FutureWarning: Unlike other reduction functions (e.g. `skew`, `kurtosis`), the default behavior of `mode` typically preserves the axis it acts along. In SciPy 1.11.0, this behavior will change: the default value of `keepdims` will become False, the `axis` over which the statistic is taken will be eliminated, and the value None will no longer be accepted. Set `keepdims` to True or False to avoid this warning.\n",
      "  most_common_angle = mode(np.around(angles, decimals=2))[0]\n",
      "C:\\Users\\kuber\\AppData\\Local\\Temp\\ipykernel_11124\\2873010673.py:11: FutureWarning: Unlike other reduction functions (e.g. `skew`, `kurtosis`), the default behavior of `mode` typically preserves the axis it acts along. In SciPy 1.11.0, this behavior will change: the default value of `keepdims` will become False, the `axis` over which the statistic is taken will be eliminated, and the value None will no longer be accepted. Set `keepdims` to True or False to avoid this warning.\n",
      "  most_common_angle = mode(np.around(angles, decimals=2))[0]\n",
      "C:\\Users\\kuber\\AppData\\Local\\Temp\\ipykernel_11124\\2873010673.py:11: FutureWarning: Unlike other reduction functions (e.g. `skew`, `kurtosis`), the default behavior of `mode` typically preserves the axis it acts along. In SciPy 1.11.0, this behavior will change: the default value of `keepdims` will become False, the `axis` over which the statistic is taken will be eliminated, and the value None will no longer be accepted. Set `keepdims` to True or False to avoid this warning.\n",
      "  most_common_angle = mode(np.around(angles, decimals=2))[0]\n",
      "C:\\Users\\kuber\\AppData\\Local\\Temp\\ipykernel_11124\\2873010673.py:11: FutureWarning: Unlike other reduction functions (e.g. `skew`, `kurtosis`), the default behavior of `mode` typically preserves the axis it acts along. In SciPy 1.11.0, this behavior will change: the default value of `keepdims` will become False, the `axis` over which the statistic is taken will be eliminated, and the value None will no longer be accepted. Set `keepdims` to True or False to avoid this warning.\n",
      "  most_common_angle = mode(np.around(angles, decimals=2))[0]\n",
      "C:\\Users\\kuber\\AppData\\Local\\Temp\\ipykernel_11124\\2873010673.py:11: FutureWarning: Unlike other reduction functions (e.g. `skew`, `kurtosis`), the default behavior of `mode` typically preserves the axis it acts along. In SciPy 1.11.0, this behavior will change: the default value of `keepdims` will become False, the `axis` over which the statistic is taken will be eliminated, and the value None will no longer be accepted. Set `keepdims` to True or False to avoid this warning.\n",
      "  most_common_angle = mode(np.around(angles, decimals=2))[0]\n",
      "C:\\Users\\kuber\\AppData\\Local\\Temp\\ipykernel_11124\\2873010673.py:11: FutureWarning: Unlike other reduction functions (e.g. `skew`, `kurtosis`), the default behavior of `mode` typically preserves the axis it acts along. In SciPy 1.11.0, this behavior will change: the default value of `keepdims` will become False, the `axis` over which the statistic is taken will be eliminated, and the value None will no longer be accepted. Set `keepdims` to True or False to avoid this warning.\n",
      "  most_common_angle = mode(np.around(angles, decimals=2))[0]\n",
      "C:\\Users\\kuber\\AppData\\Local\\Temp\\ipykernel_11124\\2873010673.py:11: FutureWarning: Unlike other reduction functions (e.g. `skew`, `kurtosis`), the default behavior of `mode` typically preserves the axis it acts along. In SciPy 1.11.0, this behavior will change: the default value of `keepdims` will become False, the `axis` over which the statistic is taken will be eliminated, and the value None will no longer be accepted. Set `keepdims` to True or False to avoid this warning.\n",
      "  most_common_angle = mode(np.around(angles, decimals=2))[0]\n",
      "C:\\Users\\kuber\\AppData\\Local\\Temp\\ipykernel_11124\\2873010673.py:11: FutureWarning: Unlike other reduction functions (e.g. `skew`, `kurtosis`), the default behavior of `mode` typically preserves the axis it acts along. In SciPy 1.11.0, this behavior will change: the default value of `keepdims` will become False, the `axis` over which the statistic is taken will be eliminated, and the value None will no longer be accepted. Set `keepdims` to True or False to avoid this warning.\n",
      "  most_common_angle = mode(np.around(angles, decimals=2))[0]\n",
      "C:\\Users\\kuber\\AppData\\Local\\Temp\\ipykernel_11124\\2873010673.py:11: FutureWarning: Unlike other reduction functions (e.g. `skew`, `kurtosis`), the default behavior of `mode` typically preserves the axis it acts along. In SciPy 1.11.0, this behavior will change: the default value of `keepdims` will become False, the `axis` over which the statistic is taken will be eliminated, and the value None will no longer be accepted. Set `keepdims` to True or False to avoid this warning.\n",
      "  most_common_angle = mode(np.around(angles, decimals=2))[0]\n",
      "C:\\Users\\kuber\\AppData\\Local\\Temp\\ipykernel_11124\\2873010673.py:11: FutureWarning: Unlike other reduction functions (e.g. `skew`, `kurtosis`), the default behavior of `mode` typically preserves the axis it acts along. In SciPy 1.11.0, this behavior will change: the default value of `keepdims` will become False, the `axis` over which the statistic is taken will be eliminated, and the value None will no longer be accepted. Set `keepdims` to True or False to avoid this warning.\n",
      "  most_common_angle = mode(np.around(angles, decimals=2))[0]\n",
      "C:\\Users\\kuber\\AppData\\Local\\Temp\\ipykernel_11124\\2873010673.py:11: FutureWarning: Unlike other reduction functions (e.g. `skew`, `kurtosis`), the default behavior of `mode` typically preserves the axis it acts along. In SciPy 1.11.0, this behavior will change: the default value of `keepdims` will become False, the `axis` over which the statistic is taken will be eliminated, and the value None will no longer be accepted. Set `keepdims` to True or False to avoid this warning.\n",
      "  most_common_angle = mode(np.around(angles, decimals=2))[0]\n",
      "C:\\Users\\kuber\\AppData\\Local\\Temp\\ipykernel_11124\\2873010673.py:11: FutureWarning: Unlike other reduction functions (e.g. `skew`, `kurtosis`), the default behavior of `mode` typically preserves the axis it acts along. In SciPy 1.11.0, this behavior will change: the default value of `keepdims` will become False, the `axis` over which the statistic is taken will be eliminated, and the value None will no longer be accepted. Set `keepdims` to True or False to avoid this warning.\n",
      "  most_common_angle = mode(np.around(angles, decimals=2))[0]\n",
      "C:\\Users\\kuber\\AppData\\Local\\Temp\\ipykernel_11124\\2873010673.py:11: FutureWarning: Unlike other reduction functions (e.g. `skew`, `kurtosis`), the default behavior of `mode` typically preserves the axis it acts along. In SciPy 1.11.0, this behavior will change: the default value of `keepdims` will become False, the `axis` over which the statistic is taken will be eliminated, and the value None will no longer be accepted. Set `keepdims` to True or False to avoid this warning.\n",
      "  most_common_angle = mode(np.around(angles, decimals=2))[0]\n",
      "C:\\Users\\kuber\\AppData\\Local\\Temp\\ipykernel_11124\\2873010673.py:11: FutureWarning: Unlike other reduction functions (e.g. `skew`, `kurtosis`), the default behavior of `mode` typically preserves the axis it acts along. In SciPy 1.11.0, this behavior will change: the default value of `keepdims` will become False, the `axis` over which the statistic is taken will be eliminated, and the value None will no longer be accepted. Set `keepdims` to True or False to avoid this warning.\n",
      "  most_common_angle = mode(np.around(angles, decimals=2))[0]\n",
      "C:\\Users\\kuber\\AppData\\Local\\Temp\\ipykernel_11124\\2873010673.py:11: FutureWarning: Unlike other reduction functions (e.g. `skew`, `kurtosis`), the default behavior of `mode` typically preserves the axis it acts along. In SciPy 1.11.0, this behavior will change: the default value of `keepdims` will become False, the `axis` over which the statistic is taken will be eliminated, and the value None will no longer be accepted. Set `keepdims` to True or False to avoid this warning.\n",
      "  most_common_angle = mode(np.around(angles, decimals=2))[0]\n",
      "C:\\Users\\kuber\\AppData\\Local\\Temp\\ipykernel_11124\\2873010673.py:11: FutureWarning: Unlike other reduction functions (e.g. `skew`, `kurtosis`), the default behavior of `mode` typically preserves the axis it acts along. In SciPy 1.11.0, this behavior will change: the default value of `keepdims` will become False, the `axis` over which the statistic is taken will be eliminated, and the value None will no longer be accepted. Set `keepdims` to True or False to avoid this warning.\n",
      "  most_common_angle = mode(np.around(angles, decimals=2))[0]\n"
     ]
    },
    {
     "name": "stderr",
     "output_type": "stream",
     "text": [
      "C:\\Users\\kuber\\AppData\\Local\\Temp\\ipykernel_11124\\2873010673.py:11: FutureWarning: Unlike other reduction functions (e.g. `skew`, `kurtosis`), the default behavior of `mode` typically preserves the axis it acts along. In SciPy 1.11.0, this behavior will change: the default value of `keepdims` will become False, the `axis` over which the statistic is taken will be eliminated, and the value None will no longer be accepted. Set `keepdims` to True or False to avoid this warning.\n",
      "  most_common_angle = mode(np.around(angles, decimals=2))[0]\n",
      "C:\\Users\\kuber\\AppData\\Local\\Temp\\ipykernel_11124\\2873010673.py:11: FutureWarning: Unlike other reduction functions (e.g. `skew`, `kurtosis`), the default behavior of `mode` typically preserves the axis it acts along. In SciPy 1.11.0, this behavior will change: the default value of `keepdims` will become False, the `axis` over which the statistic is taken will be eliminated, and the value None will no longer be accepted. Set `keepdims` to True or False to avoid this warning.\n",
      "  most_common_angle = mode(np.around(angles, decimals=2))[0]\n",
      "C:\\Users\\kuber\\AppData\\Local\\Temp\\ipykernel_11124\\2873010673.py:11: FutureWarning: Unlike other reduction functions (e.g. `skew`, `kurtosis`), the default behavior of `mode` typically preserves the axis it acts along. In SciPy 1.11.0, this behavior will change: the default value of `keepdims` will become False, the `axis` over which the statistic is taken will be eliminated, and the value None will no longer be accepted. Set `keepdims` to True or False to avoid this warning.\n",
      "  most_common_angle = mode(np.around(angles, decimals=2))[0]\n",
      "C:\\Users\\kuber\\AppData\\Local\\Temp\\ipykernel_11124\\2873010673.py:11: FutureWarning: Unlike other reduction functions (e.g. `skew`, `kurtosis`), the default behavior of `mode` typically preserves the axis it acts along. In SciPy 1.11.0, this behavior will change: the default value of `keepdims` will become False, the `axis` over which the statistic is taken will be eliminated, and the value None will no longer be accepted. Set `keepdims` to True or False to avoid this warning.\n",
      "  most_common_angle = mode(np.around(angles, decimals=2))[0]\n",
      "C:\\Users\\kuber\\AppData\\Local\\Temp\\ipykernel_11124\\2873010673.py:11: FutureWarning: Unlike other reduction functions (e.g. `skew`, `kurtosis`), the default behavior of `mode` typically preserves the axis it acts along. In SciPy 1.11.0, this behavior will change: the default value of `keepdims` will become False, the `axis` over which the statistic is taken will be eliminated, and the value None will no longer be accepted. Set `keepdims` to True or False to avoid this warning.\n",
      "  most_common_angle = mode(np.around(angles, decimals=2))[0]\n",
      "C:\\Users\\kuber\\AppData\\Local\\Temp\\ipykernel_11124\\2873010673.py:11: FutureWarning: Unlike other reduction functions (e.g. `skew`, `kurtosis`), the default behavior of `mode` typically preserves the axis it acts along. In SciPy 1.11.0, this behavior will change: the default value of `keepdims` will become False, the `axis` over which the statistic is taken will be eliminated, and the value None will no longer be accepted. Set `keepdims` to True or False to avoid this warning.\n",
      "  most_common_angle = mode(np.around(angles, decimals=2))[0]\n",
      "C:\\Users\\kuber\\AppData\\Local\\Temp\\ipykernel_11124\\2873010673.py:11: FutureWarning: Unlike other reduction functions (e.g. `skew`, `kurtosis`), the default behavior of `mode` typically preserves the axis it acts along. In SciPy 1.11.0, this behavior will change: the default value of `keepdims` will become False, the `axis` over which the statistic is taken will be eliminated, and the value None will no longer be accepted. Set `keepdims` to True or False to avoid this warning.\n",
      "  most_common_angle = mode(np.around(angles, decimals=2))[0]\n",
      "C:\\Users\\kuber\\AppData\\Local\\Temp\\ipykernel_11124\\2873010673.py:11: FutureWarning: Unlike other reduction functions (e.g. `skew`, `kurtosis`), the default behavior of `mode` typically preserves the axis it acts along. In SciPy 1.11.0, this behavior will change: the default value of `keepdims` will become False, the `axis` over which the statistic is taken will be eliminated, and the value None will no longer be accepted. Set `keepdims` to True or False to avoid this warning.\n",
      "  most_common_angle = mode(np.around(angles, decimals=2))[0]\n",
      "C:\\Users\\kuber\\AppData\\Local\\Temp\\ipykernel_11124\\2873010673.py:11: FutureWarning: Unlike other reduction functions (e.g. `skew`, `kurtosis`), the default behavior of `mode` typically preserves the axis it acts along. In SciPy 1.11.0, this behavior will change: the default value of `keepdims` will become False, the `axis` over which the statistic is taken will be eliminated, and the value None will no longer be accepted. Set `keepdims` to True or False to avoid this warning.\n",
      "  most_common_angle = mode(np.around(angles, decimals=2))[0]\n",
      "C:\\Users\\kuber\\AppData\\Local\\Temp\\ipykernel_11124\\2873010673.py:11: FutureWarning: Unlike other reduction functions (e.g. `skew`, `kurtosis`), the default behavior of `mode` typically preserves the axis it acts along. In SciPy 1.11.0, this behavior will change: the default value of `keepdims` will become False, the `axis` over which the statistic is taken will be eliminated, and the value None will no longer be accepted. Set `keepdims` to True or False to avoid this warning.\n",
      "  most_common_angle = mode(np.around(angles, decimals=2))[0]\n",
      "C:\\Users\\kuber\\AppData\\Local\\Temp\\ipykernel_11124\\2873010673.py:11: FutureWarning: Unlike other reduction functions (e.g. `skew`, `kurtosis`), the default behavior of `mode` typically preserves the axis it acts along. In SciPy 1.11.0, this behavior will change: the default value of `keepdims` will become False, the `axis` over which the statistic is taken will be eliminated, and the value None will no longer be accepted. Set `keepdims` to True or False to avoid this warning.\n",
      "  most_common_angle = mode(np.around(angles, decimals=2))[0]\n",
      "C:\\Users\\kuber\\AppData\\Local\\Temp\\ipykernel_11124\\2873010673.py:11: FutureWarning: Unlike other reduction functions (e.g. `skew`, `kurtosis`), the default behavior of `mode` typically preserves the axis it acts along. In SciPy 1.11.0, this behavior will change: the default value of `keepdims` will become False, the `axis` over which the statistic is taken will be eliminated, and the value None will no longer be accepted. Set `keepdims` to True or False to avoid this warning.\n",
      "  most_common_angle = mode(np.around(angles, decimals=2))[0]\n",
      "C:\\Users\\kuber\\AppData\\Local\\Temp\\ipykernel_11124\\2873010673.py:11: FutureWarning: Unlike other reduction functions (e.g. `skew`, `kurtosis`), the default behavior of `mode` typically preserves the axis it acts along. In SciPy 1.11.0, this behavior will change: the default value of `keepdims` will become False, the `axis` over which the statistic is taken will be eliminated, and the value None will no longer be accepted. Set `keepdims` to True or False to avoid this warning.\n",
      "  most_common_angle = mode(np.around(angles, decimals=2))[0]\n",
      "C:\\Users\\kuber\\AppData\\Local\\Temp\\ipykernel_11124\\2873010673.py:11: FutureWarning: Unlike other reduction functions (e.g. `skew`, `kurtosis`), the default behavior of `mode` typically preserves the axis it acts along. In SciPy 1.11.0, this behavior will change: the default value of `keepdims` will become False, the `axis` over which the statistic is taken will be eliminated, and the value None will no longer be accepted. Set `keepdims` to True or False to avoid this warning.\n",
      "  most_common_angle = mode(np.around(angles, decimals=2))[0]\n",
      "C:\\Users\\kuber\\AppData\\Local\\Temp\\ipykernel_11124\\2873010673.py:11: FutureWarning: Unlike other reduction functions (e.g. `skew`, `kurtosis`), the default behavior of `mode` typically preserves the axis it acts along. In SciPy 1.11.0, this behavior will change: the default value of `keepdims` will become False, the `axis` over which the statistic is taken will be eliminated, and the value None will no longer be accepted. Set `keepdims` to True or False to avoid this warning.\n",
      "  most_common_angle = mode(np.around(angles, decimals=2))[0]\n",
      "C:\\Users\\kuber\\AppData\\Local\\Temp\\ipykernel_11124\\2873010673.py:11: FutureWarning: Unlike other reduction functions (e.g. `skew`, `kurtosis`), the default behavior of `mode` typically preserves the axis it acts along. In SciPy 1.11.0, this behavior will change: the default value of `keepdims` will become False, the `axis` over which the statistic is taken will be eliminated, and the value None will no longer be accepted. Set `keepdims` to True or False to avoid this warning.\n",
      "  most_common_angle = mode(np.around(angles, decimals=2))[0]\n"
     ]
    },
    {
     "name": "stderr",
     "output_type": "stream",
     "text": [
      "C:\\Users\\kuber\\AppData\\Local\\Temp\\ipykernel_11124\\2873010673.py:11: FutureWarning: Unlike other reduction functions (e.g. `skew`, `kurtosis`), the default behavior of `mode` typically preserves the axis it acts along. In SciPy 1.11.0, this behavior will change: the default value of `keepdims` will become False, the `axis` over which the statistic is taken will be eliminated, and the value None will no longer be accepted. Set `keepdims` to True or False to avoid this warning.\n",
      "  most_common_angle = mode(np.around(angles, decimals=2))[0]\n",
      "C:\\Users\\kuber\\AppData\\Local\\Temp\\ipykernel_11124\\2873010673.py:11: FutureWarning: Unlike other reduction functions (e.g. `skew`, `kurtosis`), the default behavior of `mode` typically preserves the axis it acts along. In SciPy 1.11.0, this behavior will change: the default value of `keepdims` will become False, the `axis` over which the statistic is taken will be eliminated, and the value None will no longer be accepted. Set `keepdims` to True or False to avoid this warning.\n",
      "  most_common_angle = mode(np.around(angles, decimals=2))[0]\n",
      "C:\\Users\\kuber\\AppData\\Local\\Temp\\ipykernel_11124\\2873010673.py:11: FutureWarning: Unlike other reduction functions (e.g. `skew`, `kurtosis`), the default behavior of `mode` typically preserves the axis it acts along. In SciPy 1.11.0, this behavior will change: the default value of `keepdims` will become False, the `axis` over which the statistic is taken will be eliminated, and the value None will no longer be accepted. Set `keepdims` to True or False to avoid this warning.\n",
      "  most_common_angle = mode(np.around(angles, decimals=2))[0]\n",
      "C:\\Users\\kuber\\AppData\\Local\\Temp\\ipykernel_11124\\2873010673.py:11: FutureWarning: Unlike other reduction functions (e.g. `skew`, `kurtosis`), the default behavior of `mode` typically preserves the axis it acts along. In SciPy 1.11.0, this behavior will change: the default value of `keepdims` will become False, the `axis` over which the statistic is taken will be eliminated, and the value None will no longer be accepted. Set `keepdims` to True or False to avoid this warning.\n",
      "  most_common_angle = mode(np.around(angles, decimals=2))[0]\n",
      "C:\\Users\\kuber\\AppData\\Local\\Temp\\ipykernel_11124\\2873010673.py:11: FutureWarning: Unlike other reduction functions (e.g. `skew`, `kurtosis`), the default behavior of `mode` typically preserves the axis it acts along. In SciPy 1.11.0, this behavior will change: the default value of `keepdims` will become False, the `axis` over which the statistic is taken will be eliminated, and the value None will no longer be accepted. Set `keepdims` to True or False to avoid this warning.\n",
      "  most_common_angle = mode(np.around(angles, decimals=2))[0]\n",
      "C:\\Users\\kuber\\AppData\\Local\\Temp\\ipykernel_11124\\2873010673.py:11: FutureWarning: Unlike other reduction functions (e.g. `skew`, `kurtosis`), the default behavior of `mode` typically preserves the axis it acts along. In SciPy 1.11.0, this behavior will change: the default value of `keepdims` will become False, the `axis` over which the statistic is taken will be eliminated, and the value None will no longer be accepted. Set `keepdims` to True or False to avoid this warning.\n",
      "  most_common_angle = mode(np.around(angles, decimals=2))[0]\n",
      "C:\\Users\\kuber\\AppData\\Local\\Temp\\ipykernel_11124\\2873010673.py:11: FutureWarning: Unlike other reduction functions (e.g. `skew`, `kurtosis`), the default behavior of `mode` typically preserves the axis it acts along. In SciPy 1.11.0, this behavior will change: the default value of `keepdims` will become False, the `axis` over which the statistic is taken will be eliminated, and the value None will no longer be accepted. Set `keepdims` to True or False to avoid this warning.\n",
      "  most_common_angle = mode(np.around(angles, decimals=2))[0]\n",
      "C:\\Users\\kuber\\AppData\\Local\\Temp\\ipykernel_11124\\2873010673.py:11: FutureWarning: Unlike other reduction functions (e.g. `skew`, `kurtosis`), the default behavior of `mode` typically preserves the axis it acts along. In SciPy 1.11.0, this behavior will change: the default value of `keepdims` will become False, the `axis` over which the statistic is taken will be eliminated, and the value None will no longer be accepted. Set `keepdims` to True or False to avoid this warning.\n",
      "  most_common_angle = mode(np.around(angles, decimals=2))[0]\n",
      "C:\\Users\\kuber\\AppData\\Local\\Temp\\ipykernel_11124\\2873010673.py:11: FutureWarning: Unlike other reduction functions (e.g. `skew`, `kurtosis`), the default behavior of `mode` typically preserves the axis it acts along. In SciPy 1.11.0, this behavior will change: the default value of `keepdims` will become False, the `axis` over which the statistic is taken will be eliminated, and the value None will no longer be accepted. Set `keepdims` to True or False to avoid this warning.\n",
      "  most_common_angle = mode(np.around(angles, decimals=2))[0]\n",
      "C:\\Users\\kuber\\AppData\\Local\\Temp\\ipykernel_11124\\2873010673.py:11: FutureWarning: Unlike other reduction functions (e.g. `skew`, `kurtosis`), the default behavior of `mode` typically preserves the axis it acts along. In SciPy 1.11.0, this behavior will change: the default value of `keepdims` will become False, the `axis` over which the statistic is taken will be eliminated, and the value None will no longer be accepted. Set `keepdims` to True or False to avoid this warning.\n",
      "  most_common_angle = mode(np.around(angles, decimals=2))[0]\n",
      "C:\\Users\\kuber\\AppData\\Local\\Temp\\ipykernel_11124\\2873010673.py:11: FutureWarning: Unlike other reduction functions (e.g. `skew`, `kurtosis`), the default behavior of `mode` typically preserves the axis it acts along. In SciPy 1.11.0, this behavior will change: the default value of `keepdims` will become False, the `axis` over which the statistic is taken will be eliminated, and the value None will no longer be accepted. Set `keepdims` to True or False to avoid this warning.\n",
      "  most_common_angle = mode(np.around(angles, decimals=2))[0]\n",
      "C:\\Users\\kuber\\AppData\\Local\\Temp\\ipykernel_11124\\2873010673.py:11: FutureWarning: Unlike other reduction functions (e.g. `skew`, `kurtosis`), the default behavior of `mode` typically preserves the axis it acts along. In SciPy 1.11.0, this behavior will change: the default value of `keepdims` will become False, the `axis` over which the statistic is taken will be eliminated, and the value None will no longer be accepted. Set `keepdims` to True or False to avoid this warning.\n",
      "  most_common_angle = mode(np.around(angles, decimals=2))[0]\n",
      "C:\\Users\\kuber\\AppData\\Local\\Temp\\ipykernel_11124\\2873010673.py:11: FutureWarning: Unlike other reduction functions (e.g. `skew`, `kurtosis`), the default behavior of `mode` typically preserves the axis it acts along. In SciPy 1.11.0, this behavior will change: the default value of `keepdims` will become False, the `axis` over which the statistic is taken will be eliminated, and the value None will no longer be accepted. Set `keepdims` to True or False to avoid this warning.\n",
      "  most_common_angle = mode(np.around(angles, decimals=2))[0]\n",
      "C:\\Users\\kuber\\AppData\\Local\\Temp\\ipykernel_11124\\2873010673.py:11: FutureWarning: Unlike other reduction functions (e.g. `skew`, `kurtosis`), the default behavior of `mode` typically preserves the axis it acts along. In SciPy 1.11.0, this behavior will change: the default value of `keepdims` will become False, the `axis` over which the statistic is taken will be eliminated, and the value None will no longer be accepted. Set `keepdims` to True or False to avoid this warning.\n",
      "  most_common_angle = mode(np.around(angles, decimals=2))[0]\n",
      "C:\\Users\\kuber\\AppData\\Local\\Temp\\ipykernel_11124\\2873010673.py:11: FutureWarning: Unlike other reduction functions (e.g. `skew`, `kurtosis`), the default behavior of `mode` typically preserves the axis it acts along. In SciPy 1.11.0, this behavior will change: the default value of `keepdims` will become False, the `axis` over which the statistic is taken will be eliminated, and the value None will no longer be accepted. Set `keepdims` to True or False to avoid this warning.\n",
      "  most_common_angle = mode(np.around(angles, decimals=2))[0]\n",
      "C:\\Users\\kuber\\AppData\\Local\\Temp\\ipykernel_11124\\2873010673.py:11: FutureWarning: Unlike other reduction functions (e.g. `skew`, `kurtosis`), the default behavior of `mode` typically preserves the axis it acts along. In SciPy 1.11.0, this behavior will change: the default value of `keepdims` will become False, the `axis` over which the statistic is taken will be eliminated, and the value None will no longer be accepted. Set `keepdims` to True or False to avoid this warning.\n",
      "  most_common_angle = mode(np.around(angles, decimals=2))[0]\n"
     ]
    },
    {
     "name": "stderr",
     "output_type": "stream",
     "text": [
      "C:\\Users\\kuber\\AppData\\Local\\Temp\\ipykernel_11124\\2873010673.py:11: FutureWarning: Unlike other reduction functions (e.g. `skew`, `kurtosis`), the default behavior of `mode` typically preserves the axis it acts along. In SciPy 1.11.0, this behavior will change: the default value of `keepdims` will become False, the `axis` over which the statistic is taken will be eliminated, and the value None will no longer be accepted. Set `keepdims` to True or False to avoid this warning.\n",
      "  most_common_angle = mode(np.around(angles, decimals=2))[0]\n",
      "C:\\Users\\kuber\\AppData\\Local\\Temp\\ipykernel_11124\\2873010673.py:11: FutureWarning: Unlike other reduction functions (e.g. `skew`, `kurtosis`), the default behavior of `mode` typically preserves the axis it acts along. In SciPy 1.11.0, this behavior will change: the default value of `keepdims` will become False, the `axis` over which the statistic is taken will be eliminated, and the value None will no longer be accepted. Set `keepdims` to True or False to avoid this warning.\n",
      "  most_common_angle = mode(np.around(angles, decimals=2))[0]\n",
      "C:\\Users\\kuber\\AppData\\Local\\Temp\\ipykernel_11124\\2873010673.py:11: FutureWarning: Unlike other reduction functions (e.g. `skew`, `kurtosis`), the default behavior of `mode` typically preserves the axis it acts along. In SciPy 1.11.0, this behavior will change: the default value of `keepdims` will become False, the `axis` over which the statistic is taken will be eliminated, and the value None will no longer be accepted. Set `keepdims` to True or False to avoid this warning.\n",
      "  most_common_angle = mode(np.around(angles, decimals=2))[0]\n",
      "C:\\Users\\kuber\\AppData\\Local\\Temp\\ipykernel_11124\\2873010673.py:11: FutureWarning: Unlike other reduction functions (e.g. `skew`, `kurtosis`), the default behavior of `mode` typically preserves the axis it acts along. In SciPy 1.11.0, this behavior will change: the default value of `keepdims` will become False, the `axis` over which the statistic is taken will be eliminated, and the value None will no longer be accepted. Set `keepdims` to True or False to avoid this warning.\n",
      "  most_common_angle = mode(np.around(angles, decimals=2))[0]\n",
      "C:\\Users\\kuber\\AppData\\Local\\Temp\\ipykernel_11124\\2873010673.py:11: FutureWarning: Unlike other reduction functions (e.g. `skew`, `kurtosis`), the default behavior of `mode` typically preserves the axis it acts along. In SciPy 1.11.0, this behavior will change: the default value of `keepdims` will become False, the `axis` over which the statistic is taken will be eliminated, and the value None will no longer be accepted. Set `keepdims` to True or False to avoid this warning.\n",
      "  most_common_angle = mode(np.around(angles, decimals=2))[0]\n",
      "C:\\Users\\kuber\\AppData\\Local\\Temp\\ipykernel_11124\\2873010673.py:11: FutureWarning: Unlike other reduction functions (e.g. `skew`, `kurtosis`), the default behavior of `mode` typically preserves the axis it acts along. In SciPy 1.11.0, this behavior will change: the default value of `keepdims` will become False, the `axis` over which the statistic is taken will be eliminated, and the value None will no longer be accepted. Set `keepdims` to True or False to avoid this warning.\n",
      "  most_common_angle = mode(np.around(angles, decimals=2))[0]\n",
      "C:\\Users\\kuber\\AppData\\Local\\Temp\\ipykernel_11124\\2873010673.py:11: FutureWarning: Unlike other reduction functions (e.g. `skew`, `kurtosis`), the default behavior of `mode` typically preserves the axis it acts along. In SciPy 1.11.0, this behavior will change: the default value of `keepdims` will become False, the `axis` over which the statistic is taken will be eliminated, and the value None will no longer be accepted. Set `keepdims` to True or False to avoid this warning.\n",
      "  most_common_angle = mode(np.around(angles, decimals=2))[0]\n"
     ]
    }
   ],
   "source": [
    "cap=cv2.VideoCapture(0)\n",
    "while(1):\n",
    "    _,frame=cap.read()\n",
    "    frame=get_image(frame)\n",
    "    cv2.imshow(\"\",frame)\n",
    "    if cv2.waitKey(1000) & 0xFF==ord('q'):\n",
    "        break\n",
    "cv2.destroyAllWindows()\n",
    "cap.release()\n",
    "    "
   ]
  }
 ],
 "metadata": {
  "kernelspec": {
   "display_name": "Python 3.10(tensorflow)",
   "language": "python",
   "name": "ternsarflow"
  },
  "language_info": {
   "codemirror_mode": {
    "name": "ipython",
    "version": 3
   },
   "file_extension": ".py",
   "mimetype": "text/x-python",
   "name": "python",
   "nbconvert_exporter": "python",
   "pygments_lexer": "ipython3",
   "version": "3.10.6"
  }
 },
 "nbformat": 4,
 "nbformat_minor": 5
}
